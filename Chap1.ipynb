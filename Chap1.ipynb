{
  "nbformat": 4,
  "nbformat_minor": 0,
  "metadata": {
    "colab": {
      "name": "Chap1.ipynb",
      "provenance": [],
      "collapsed_sections": []
    },
    "kernelspec": {
      "name": "python3",
      "display_name": "Python 3"
    },
    "language_info": {
      "name": "python"
    }
  },
  "cells": [
    {
      "cell_type": "markdown",
      "source": [
        "##運算式,變數與資料型別\n",
        "- 註解▼"
      ],
      "metadata": {
        "id": "3eIW-kpBpIq_"
      }
    },
    {
      "cell_type": "code",
      "execution_count": null,
      "metadata": {
        "colab": {
          "base_uri": "https://localhost:8080/"
        },
        "id": "VW_NWgw-o_S4",
        "outputId": "7325a380-0e68-4765-fef8-0f67a2c2327d"
      },
      "outputs": [
        {
          "output_type": "execute_result",
          "data": {
            "text/plain": [
              "10"
            ]
          },
          "metadata": {},
          "execution_count": 1
        }
      ],
      "source": [
        "#   單行註解\n",
        "'''\n",
        "多行註解1\n",
        "多行註解2\n",
        "'''\n",
        "a=3\n",
        "b=7\n",
        "a+b"
      ]
    },
    {
      "cell_type": "markdown",
      "source": [
        "- 運算式 "
      ],
      "metadata": {
        "id": "VoW3DiGysVu5"
      }
    },
    {
      "cell_type": "code",
      "source": [
        "#變數交換 透過第三變數\n",
        "x=1\n",
        "y=10\n",
        "\n",
        "z=x\n",
        "x=y\n",
        "y=z\n",
        "print (x)\n",
        "print (y)"
      ],
      "metadata": {
        "colab": {
          "base_uri": "https://localhost:8080/"
        },
        "id": "IPBvHhQjpVnG",
        "outputId": "13523126-1578-43b2-b4ff-a4c50ece4434"
      },
      "execution_count": null,
      "outputs": [
        {
          "output_type": "stream",
          "name": "stdout",
          "text": [
            "10\n",
            "1\n"
          ]
        }
      ]
    },
    {
      "cell_type": "code",
      "source": [
        "#變數交換 不透過第三變數\n",
        "x=1\n",
        "y=10\n",
        "\n",
        "x=x+y\n",
        "y=x-y\n",
        "x=x-y\n",
        "print(x,y)"
      ],
      "metadata": {
        "colab": {
          "base_uri": "https://localhost:8080/"
        },
        "id": "0gbxhelHtzep",
        "outputId": "8b8ca649-b381-429d-de0b-5990ffae28ad"
      },
      "execution_count": null,
      "outputs": [
        {
          "output_type": "stream",
          "name": "stdout",
          "text": [
            "10 1\n"
          ]
        }
      ]
    },
    {
      "cell_type": "code",
      "source": [
        "#python版變數交換\n",
        "x=1\n",
        "y=10\n",
        "x,y=y,x\n",
        "print(x,y)"
      ],
      "metadata": {
        "id": "vbzoefr0vEYx"
      },
      "execution_count": null,
      "outputs": []
    },
    {
      "cell_type": "code",
      "source": [
        "#變數平行設定\n",
        "x,y,z=1,2,3\n",
        "print(x,y,z)"
      ],
      "metadata": {
        "colab": {
          "base_uri": "https://localhost:8080/"
        },
        "id": "ji2uVDaWvwsW",
        "outputId": "354649c6-8880-48a2-d731-10fea8b958c1"
      },
      "execution_count": null,
      "outputs": [
        {
          "output_type": "stream",
          "name": "stdout",
          "text": [
            "1 2 3\n"
          ]
        }
      ]
    },
    {
      "cell_type": "code",
      "source": [
        "x,y,z=3,4,5\n",
        "x+=1 #x=x+1\n",
        "y*=2 #y=y*2\n",
        "z**=3 #z=z**3\n",
        "\n",
        "print(x,y,z)"
      ],
      "metadata": {
        "colab": {
          "base_uri": "https://localhost:8080/"
        },
        "id": "oBdgSKdIe6xt",
        "outputId": "dead1ab7-2252-4832-ffa0-9618f2c6091b"
      },
      "execution_count": null,
      "outputs": [
        {
          "output_type": "stream",
          "name": "stdout",
          "text": [
            "4 8 125\n"
          ]
        }
      ]
    },
    {
      "cell_type": "markdown",
      "source": [
        "##變數的應用\n",
        "Q:半徑為10的圓形，其面積大小為何?\n"
      ],
      "metadata": {
        "id": "ViW79kHkiM3E"
      }
    },
    {
      "cell_type": "code",
      "source": [
        "import math\n",
        "r=10\n",
        "print(r*r*math.pi)"
      ],
      "metadata": {
        "colab": {
          "base_uri": "https://localhost:8080/"
        },
        "id": "opykiBiFiJ1M",
        "outputId": "cb12c3ed-0fd1-4f1c-912a-48dbf4a70a4b"
      },
      "execution_count": null,
      "outputs": [
        {
          "output_type": "stream",
          "name": "stdout",
          "text": [
            "314.1592653589793\n"
          ]
        }
      ]
    },
    {
      "cell_type": "code",
      "source": [
        "import math\n",
        "r=eval(input(\"請輸入圓的半徑:\")) #eval()將字串進行數值運算 float vs input \n",
        "print(r*r*math.pi)"
      ],
      "metadata": {
        "colab": {
          "base_uri": "https://localhost:8080/"
        },
        "id": "7V_peJeakkG8",
        "outputId": "bf9ceb9a-8792-473b-aa67-5f0ba2deecd9"
      },
      "execution_count": null,
      "outputs": [
        {
          "output_type": "stream",
          "name": "stdout",
          "text": [
            "請輸入圓的半徑:5\n",
            "78.53981633974483\n"
          ]
        }
      ]
    },
    {
      "cell_type": "code",
      "source": [
        "import math\n",
        "c=eval(input(\"請輸入長度:\"))\n",
        "a=eval(input(\"請輸入寬度:\"))\n",
        "print(c*a)"
      ],
      "metadata": {
        "colab": {
          "base_uri": "https://localhost:8080/"
        },
        "id": "PqgmBDrBlGM9",
        "outputId": "7a957e7a-202e-4ba1-bea1-bd3a51b05159"
      },
      "execution_count": null,
      "outputs": [
        {
          "output_type": "stream",
          "name": "stdout",
          "text": [
            "請輸入長度:6\n",
            "請輸入寬度:4\n",
            "24\n"
          ]
        }
      ]
    },
    {
      "cell_type": "markdown",
      "source": [
        "##資料類別\n",
        "Python屬於動態類型變數，使用前不需要宣告資料型別"
      ],
      "metadata": {
        "id": "x3dMnSRlqst2"
      }
    },
    {
      "cell_type": "code",
      "source": [
        "x=254\n",
        "y=254.0\n",
        "z=\"hello\"\n",
        "print(type(x))\n",
        "print(type(y))\n",
        "print(type(z))\n",
        "print(type(x==y))"
      ],
      "metadata": {
        "colab": {
          "base_uri": "https://localhost:8080/"
        },
        "id": "xPsw7trAq6bV",
        "outputId": "8b9c887d-521e-4320-b8db-7469ffd99cd8"
      },
      "execution_count": null,
      "outputs": [
        {
          "output_type": "stream",
          "name": "stdout",
          "text": [
            "<class 'int'>\n",
            "<class 'float'>\n",
            "<class 'str'>\n",
            "<class 'bool'>\n"
          ]
        }
      ]
    },
    {
      "cell_type": "markdown",
      "source": [
        "##算術符號\n"
      ],
      "metadata": {
        "id": "bQRqWNXMs4Cm"
      }
    },
    {
      "cell_type": "code",
      "source": [
        "x=10\n",
        "y=3\n",
        "print(x/y)\n",
        "print(x//y) #取商\n",
        "print(x%y) #取餘數"
      ],
      "metadata": {
        "colab": {
          "base_uri": "https://localhost:8080/"
        },
        "id": "eARM3rdKtAGt",
        "outputId": "b0fe6c11-2584-4afb-9921-b6fdde2269fc"
      },
      "execution_count": null,
      "outputs": [
        {
          "output_type": "stream",
          "name": "stdout",
          "text": [
            "3.3333333333333335\n",
            "3\n",
            "1\n"
          ]
        }
      ]
    },
    {
      "cell_type": "markdown",
      "source": [
        "##算術符號的順序\n",
        "(括號) , **次方* , *乘 , /除 , +加 , -減 ,\n"
      ],
      "metadata": {
        "id": "tDVb-ojEusFd"
      }
    },
    {
      "cell_type": "code",
      "source": [
        "x=(5*(1+2)**2-3+4/2)\n",
        "print(x)"
      ],
      "metadata": {
        "colab": {
          "base_uri": "https://localhost:8080/"
        },
        "id": "ZWtKftYyu7xd",
        "outputId": "f979d1a5-c9f9-4c56-8b80-0065a54d0bc2"
      },
      "execution_count": null,
      "outputs": [
        {
          "output_type": "stream",
          "name": "stdout",
          "text": [
            "44.0\n"
          ]
        }
      ]
    },
    {
      "cell_type": "markdown",
      "source": [
        ""
      ],
      "metadata": {
        "id": "RzGaBUulyWOt"
      }
    },
    {
      "cell_type": "code",
      "source": [
        "x=\"must\"\n",
        "print(type(x))\n",
        "y=10\n",
        "print(type(y))\n",
        "print(10*y)\n",
        "print(10*x)\n",
        "z=\"10\"\n",
        "print(10*z)\n",
        "print(10*int(z))\n",
        "print(10*float(z))\n",
        "print(10*str(y))\n",
        "print(10*eval(\"5+2\"))"
      ],
      "metadata": {
        "id": "Kf_humxuyZLb"
      },
      "execution_count": null,
      "outputs": []
    },
    {
      "cell_type": "markdown",
      "source": [
        "#print的三種方式\n",
        "#透過區隔要列印的變數eg:print(\"this\",\"is\",\"a\",\"book\")\n",
        "#利用字串的str.format()(新式)\n",
        "#%格式化輸出字符串(舊式)"
      ],
      "metadata": {
        "id": "O_8wVhNvy3NT"
      }
    },
    {
      "cell_type": "code",
      "source": [
        "print(\"This\",\"is\",\"a\",\"book\")\n"
      ],
      "metadata": {
        "colab": {
          "base_uri": "https://localhost:8080/"
        },
        "id": "-30oGi2bzkvW",
        "outputId": "64632437-83cc-4535-ed3c-a71bde34558f"
      },
      "execution_count": null,
      "outputs": [
        {
          "output_type": "stream",
          "name": "stdout",
          "text": [
            "This is a book\n"
          ]
        }
      ]
    }
  ]
}