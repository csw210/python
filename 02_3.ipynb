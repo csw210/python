{
  "nbformat": 4,
  "nbformat_minor": 0,
  "metadata": {
    "colab": {
      "name": "02.3.ipynb",
      "provenance": []
    },
    "kernelspec": {
      "name": "python3",
      "display_name": "Python 3"
    },
    "language_info": {
      "name": "python"
    }
  },
  "cells": [
    {
      "cell_type": "markdown",
      "source": [
        "# Python物件\n",
        "## List[串列] Tuple(元組) Dictionary{字典} Sets{集合}"
      ],
      "metadata": {
        "id": "EIPIqa8nB01R"
      }
    },
    {
      "cell_type": "markdown",
      "source": [
        "## List[串列]\n",
        "使用中括號[]包裹元素"
      ],
      "metadata": {
        "id": "0q1uGG6mCilH"
      }
    },
    {
      "cell_type": "code",
      "execution_count": 3,
      "metadata": {
        "colab": {
          "base_uri": "https://localhost:8080/"
        },
        "id": "Ne4l8zeqBZAs",
        "outputId": "493bca95-71d4-48ea-a45d-3e433a673c3a"
      },
      "outputs": [
        {
          "output_type": "stream",
          "name": "stdout",
          "text": [
            "3600\n"
          ]
        }
      ],
      "source": [
        "expenses = [1138, 101, 12, 300, 2049]  #1138+101+12+300+2049\n",
        "print(sum(expenses))\n"
      ]
    },
    {
      "cell_type": "markdown",
      "source": [
        "### 索引"
      ],
      "metadata": {
        "id": "bLKYNNy-Cl_2"
      }
    },
    {
      "cell_type": "code",
      "source": [
        "expenses = [1138, 101, 12, 300, 2049] #=3600\n",
        "print(expenses[0]) #索引從0開始 ##0是1138\n",
        "print(expenses[1]) #1是101\n",
        "print(expenses[-1]) #倒數第一個\n",
        "print(expenses[-2]) #倒數第二"
      ],
      "metadata": {
        "colab": {
          "base_uri": "https://localhost:8080/"
        },
        "id": "hOthaC2NB6tv",
        "outputId": "4ed70c92-4836-48e1-a893-f085569d3fbf"
      },
      "execution_count": 4,
      "outputs": [
        {
          "output_type": "stream",
          "name": "stdout",
          "text": [
            "1138\n",
            "101\n",
            "2049\n",
            "300\n"
          ]
        }
      ]
    },
    {
      "cell_type": "code",
      "source": [
        "my_list0 = [] #空串列\n",
        "my_list1 = list() \n",
        "my_list2 = ['python', 'javascript', 'C#']\n",
        "print(my_list2[0]) #0是是python"
      ],
      "metadata": {
        "colab": {
          "base_uri": "https://localhost:8080/"
        },
        "id": "k7DoTHnuCp72",
        "outputId": "3fbe249c-b855-4ba0-b68a-237b4bcf6de1"
      },
      "execution_count": 5,
      "outputs": [
        {
          "output_type": "stream",
          "name": "stdout",
          "text": [
            "python\n"
          ]
        }
      ]
    },
    {
      "cell_type": "markdown",
      "source": [
        "## list的長度\n"
      ],
      "metadata": {
        "id": "wfjhIzk3Crc3"
      }
    },
    {
      "cell_type": "code",
      "source": [
        "my_list2 = ['python', 'javascript', 'C#']\n",
        "print(len(my_list2))\n",
        "print(len(my_list2[0]))"
      ],
      "metadata": {
        "colab": {
          "base_uri": "https://localhost:8080/"
        },
        "id": "Q57TScWvCtRG",
        "outputId": "c9ee099b-04e8-4d98-8d85-a7231f138cab"
      },
      "execution_count": 6,
      "outputs": [
        {
          "output_type": "stream",
          "name": "stdout",
          "text": [
            "3\n",
            "6\n"
          ]
        }
      ]
    }
  ]
}